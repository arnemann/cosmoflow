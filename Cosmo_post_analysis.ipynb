{
 "cells": [
  {
   "cell_type": "code",
   "execution_count": 11,
   "metadata": {
    "collapsed": true
   },
   "outputs": [],
   "source": [
    "import numpy as np\n",
    "import matplotlib.pyplot as plt\n",
    "import tensorflow as tf\n",
    "from sklearn import datasets, linear_model\n",
    "\n",
    "from matplotlib import rc\n",
    "rc('font',**{'family':'sans-serif','sans-serif':['Helvetica']})\n",
    "## for Palatino and other serif fonts use:\n",
    "#rc('font',**{'family':'serif','serif':['Palatino']})\n",
    "rc('text', usetex=True)\n",
    "\n",
    "%matplotlib inline"
   ]
  },
  {
   "cell_type": "code",
   "execution_count": 12,
   "metadata": {
    "collapsed": true
   },
   "outputs": [],
   "source": [
    "#main_directory = \"/data0/jamesarnemann/cosmoNet/orig_paper/\"\n",
    "#main_directory_2 = \"/data1/jamesarnemann/cosmoNet/new_data_3_param_1/\"\n",
    "\n",
    "main_directory_2 = \"/data0/jamesarnemann/cosmoNet/new_data_3_param_n0/\"\n",
    "model_directories = {}\n",
    "\n",
    "#model_directories[\"original data\"] = main_directory + \"temp_results_0_vanilla_code/\"\n",
    "#model_directories[\"original data rerun\"] = main_directory + \"result/\"\n",
    "\n",
    "model_directories[\"three params Ns\"] = main_directory_2 + \"result/\"\n",
    "\n",
    "#model_directories[\"new model 1(run 1)\"] = main_directory + \"first_change_result\"\n",
    "#model_directories[\"new model 1(run 2)\"] = main_directory + \"first_change_result2\"\n",
    "#model_directories[\"new model 2\"] = main_directory + \"second_change_result\""
   ]
  },
  {
   "cell_type": "code",
   "execution_count": 13,
   "metadata": {
    "collapsed": false
   },
   "outputs": [
    {
     "data": {
      "image/png": "[encoded data removed]",
      "text/plain": [
       "<matplotlib.figure.Figure at 0x7f26687040d0>"
      ]
     },
     "metadata": {},
     "output_type": "display_data"
    },
    {
     "data": {
      "image/png": "[encoded data removed]",
      "text/plain": [
       "<matplotlib.figure.Figure at 0x7f26686eaf10>"
      ]
     },
     "metadata": {},
     "output_type": "display_data"
    }
   ],
   "source": [
    "loss_types = ['loss_train','loss_val']\n",
    "for loss_type in loss_types:\n",
    "    file_type = '/' + loss_type + '.txt'\n",
    "    plot ={}\n",
    "    for model,model_dir in model_directories.iteritems():\n",
    "        loss_file = open(model_dir + file_type, \"r\")\n",
    "\n",
    "        loss = [float(val) for val in loss_file.read().splitlines()]\n",
    "\n",
    "        plot[model], = plt.plot(loss, label=model)\n",
    "        plt.xlabel(\"epoch\")\n",
    "        plt.ylabel(\"loss\")\n",
    "        plt.title(loss_type)\n",
    "\n",
    "#    plt.xlim((0,100))\n",
    "    plt.ylim((0,.1))\n",
    "    plt.legend(handles=[plot[model] for model in model_directories])\n",
    "    plt.show()"
   ]
  },
  {
   "cell_type": "code",
   "execution_count": 14,
   "metadata": {
    "collapsed": false
   },
   "outputs": [
    {
     "name": "stdout",
     "output_type": "stream",
     "text": [
      "three params Ns test-loss(mean,std): 0.0497343350696 0.0224919753293\n"
     ]
    }
   ],
   "source": [
    "loss_type = 'loss_test'\n",
    "file_type = '/' + loss_type + '.txt'\n",
    "loss = {}\n",
    "for model,model_dir in model_directories.iteritems():\n",
    "    loss_file = open(model_dir + file_type, \"r\")\n",
    "\n",
    "    loss[model] = np.array([float(val) for val in loss_file.read().splitlines()])\n",
    "\n",
    "for model in model_directories:\n",
    "    print model + \" test-loss(mean,std):\", loss[model].mean(),loss[model].std()\n",
    "\n",
    "# print \"paper test loss:\", o_loss.mean(), o_loss.std()\n",
    "# print \"new test loss:\", n_loss.mean(), n_loss.std()\n",
    "# print \"difference:\", n_loss.mean()-o_loss.mean()\n",
    "# print \"difference std:\", (n_loss-o_loss).std()"
   ]
  },
  {
   "cell_type": "code",
   "execution_count": 15,
   "metadata": {
    "collapsed": false
   },
   "outputs": [
    {
     "data": {
      "text/plain": [
       "[0.029051686355661764, 0.04023372385668218]"
      ]
     },
     "execution_count": 15,
     "metadata": {},
     "output_type": "execute_result"
    }
   ],
   "source": [
    "[2.905168635566176411e-02,4.023372385668218254e-02]"
   ]
  },
  {
   "cell_type": "code",
   "execution_count": 16,
   "metadata": {
    "collapsed": false
   },
   "outputs": [
    {
     "name": "stdout",
     "output_type": "stream",
     "text": [
      "three params Ns\n",
      "/data0/jamesarnemann/cosmoNet/new_data_3_param_n0/result/\n",
      "test_batch_0.txt\n",
      "three params Ns\n",
      "/data0/jamesarnemann/cosmoNet/new_data_3_param_n0/result/\n",
      "test_batch_1.txt\n",
      "three params Ns\n",
      "/data0/jamesarnemann/cosmoNet/new_data_3_param_n0/result/\n",
      "test_batch_2.txt\n",
      "three params Ns\n",
      "/data0/jamesarnemann/cosmoNet/new_data_3_param_n0/result/\n",
      "test_batch_3.txt\n",
      "three params Ns\n",
      "/data0/jamesarnemann/cosmoNet/new_data_3_param_n0/result/\n",
      "test_batch_4.txt\n",
      "three params Ns\n",
      "/data0/jamesarnemann/cosmoNet/new_data_3_param_n0/result/\n",
      "test_batch_5.txt\n",
      "three params Ns\n",
      "/data0/jamesarnemann/cosmoNet/new_data_3_param_n0/result/\n",
      "test_batch_6.txt\n",
      "three params Ns\n",
      "/data0/jamesarnemann/cosmoNet/new_data_3_param_n0/result/\n",
      "test_batch_7.txt\n",
      "three params Ns\n",
      "/data0/jamesarnemann/cosmoNet/new_data_3_param_n0/result/\n",
      "test_batch_8.txt\n",
      "three params Ns\n",
      "/data0/jamesarnemann/cosmoNet/new_data_3_param_n0/result/\n",
      "test_batch_9.txt\n",
      "three params Ns\n",
      "/data0/jamesarnemann/cosmoNet/new_data_3_param_n0/result/\n",
      "test_batch_10.txt\n",
      "three params Ns\n",
      "/data0/jamesarnemann/cosmoNet/new_data_3_param_n0/result/\n",
      "test_batch_11.txt\n",
      "three params Ns\n",
      "/data0/jamesarnemann/cosmoNet/new_data_3_param_n0/result/\n",
      "test_batch_12.txt\n",
      "three params Ns\n",
      "/data0/jamesarnemann/cosmoNet/new_data_3_param_n0/result/\n",
      "test_batch_13.txt\n",
      "three params Ns\n",
      "/data0/jamesarnemann/cosmoNet/new_data_3_param_n0/result/\n",
      "test_batch_14.txt\n",
      "three params Ns\n",
      "/data0/jamesarnemann/cosmoNet/new_data_3_param_n0/result/\n",
      "test_batch_15.txt\n",
      "three params Ns\n",
      "/data0/jamesarnemann/cosmoNet/new_data_3_param_n0/result/\n",
      "test_batch_16.txt\n",
      "three params Ns\n",
      "/data0/jamesarnemann/cosmoNet/new_data_3_param_n0/result/\n",
      "test_batch_17.txt\n",
      "three params Ns\n",
      "/data0/jamesarnemann/cosmoNet/new_data_3_param_n0/result/\n",
      "test_batch_18.txt\n",
      "three params Ns\n",
      "/data0/jamesarnemann/cosmoNet/new_data_3_param_n0/result/\n",
      "test_batch_19.txt\n",
      "three params Ns\n",
      "/data0/jamesarnemann/cosmoNet/new_data_3_param_n0/result/\n",
      "test_batch_20.txt\n",
      "three params Ns\n",
      "/data0/jamesarnemann/cosmoNet/new_data_3_param_n0/result/\n",
      "test_batch_21.txt\n",
      "three params Ns\n",
      "/data0/jamesarnemann/cosmoNet/new_data_3_param_n0/result/\n",
      "test_batch_22.txt\n",
      "three params Ns\n",
      "/data0/jamesarnemann/cosmoNet/new_data_3_param_n0/result/\n",
      "test_batch_23.txt\n",
      "three params Ns\n",
      "/data0/jamesarnemann/cosmoNet/new_data_3_param_n0/result/\n",
      "test_batch_24.txt\n",
      "three params Ns\n",
      "/data0/jamesarnemann/cosmoNet/new_data_3_param_n0/result/\n",
      "test_batch_25.txt\n",
      "three params Ns\n",
      "/data0/jamesarnemann/cosmoNet/new_data_3_param_n0/result/\n",
      "test_batch_26.txt\n",
      "three params Ns\n",
      "/data0/jamesarnemann/cosmoNet/new_data_3_param_n0/result/\n",
      "test_batch_27.txt\n",
      "three params Ns\n",
      "/data0/jamesarnemann/cosmoNet/new_data_3_param_n0/result/\n",
      "test_batch_28.txt\n",
      "three params Ns\n",
      "/data0/jamesarnemann/cosmoNet/new_data_3_param_n0/result/\n",
      "test_batch_29.txt\n",
      "three params Ns\n",
      "/data0/jamesarnemann/cosmoNet/new_data_3_param_n0/result/\n",
      "test_batch_30.txt\n",
      "three params Ns\n",
      "/data0/jamesarnemann/cosmoNet/new_data_3_param_n0/result/\n",
      "test_batch_31.txt\n",
      "three params Ns\n",
      "/data0/jamesarnemann/cosmoNet/new_data_3_param_n0/result/\n",
      "test_batch_32.txt\n",
      "three params Ns\n",
      "/data0/jamesarnemann/cosmoNet/new_data_3_param_n0/result/\n",
      "test_batch_33.txt\n",
      "three params Ns\n",
      "/data0/jamesarnemann/cosmoNet/new_data_3_param_n0/result/\n",
      "test_batch_34.txt\n",
      "three params Ns\n",
      "/data0/jamesarnemann/cosmoNet/new_data_3_param_n0/result/\n",
      "test_batch_35.txt\n",
      "three params Ns\n",
      "/data0/jamesarnemann/cosmoNet/new_data_3_param_n0/result/\n",
      "test_batch_36.txt\n",
      "three params Ns\n",
      "/data0/jamesarnemann/cosmoNet/new_data_3_param_n0/result/\n",
      "test_batch_37.txt\n",
      "three params Ns\n",
      "/data0/jamesarnemann/cosmoNet/new_data_3_param_n0/result/\n",
      "test_batch_38.txt\n",
      "three params Ns\n",
      "/data0/jamesarnemann/cosmoNet/new_data_3_param_n0/result/\n",
      "test_batch_39.txt\n",
      "three params Ns\n",
      "/data0/jamesarnemann/cosmoNet/new_data_3_param_n0/result/\n",
      "test_batch_40.txt\n",
      "three params Ns\n",
      "/data0/jamesarnemann/cosmoNet/new_data_3_param_n0/result/\n",
      "test_batch_41.txt\n",
      "three params Ns\n",
      "/data0/jamesarnemann/cosmoNet/new_data_3_param_n0/result/\n",
      "test_batch_42.txt\n",
      "three params Ns\n",
      "/data0/jamesarnemann/cosmoNet/new_data_3_param_n0/result/\n",
      "test_batch_43.txt\n",
      "three params Ns\n",
      "/data0/jamesarnemann/cosmoNet/new_data_3_param_n0/result/\n",
      "test_batch_44.txt\n",
      "three params Ns\n",
      "/data0/jamesarnemann/cosmoNet/new_data_3_param_n0/result/\n",
      "test_batch_45.txt\n",
      "three params Ns\n",
      "/data0/jamesarnemann/cosmoNet/new_data_3_param_n0/result/\n",
      "test_batch_46.txt\n",
      "three params Ns\n",
      "/data0/jamesarnemann/cosmoNet/new_data_3_param_n0/result/\n",
      "test_batch_47.txt\n",
      "three params Ns\n",
      "/data0/jamesarnemann/cosmoNet/new_data_3_param_n0/result/\n",
      "test_batch_48.txt\n"
     ]
    }
   ],
   "source": [
    "test_results = {}\n",
    "for model,model_dir in model_directories.iteritems():\n",
    "    for i in range(49):\n",
    "        file_name = 'test_batch_' + str(i) +'.txt'\n",
    "        test_loss_file = open(model_dir + file_name, \"r\")\n",
    "        print model\n",
    "        print model_dir\n",
    "        print file_name\n",
    "        if not test_results.has_key(model):\n",
    "            test_results[model] = []\n",
    "        test_results[model].append(np.array([x.split() for x in test_loss_file.read().splitlines()],dtype=np.float32))\n",
    "    test_results[model] = np.array(test_results[model])"
   ]
  },
  {
   "cell_type": "code",
   "execution_count": 17,
   "metadata": {
    "collapsed": false
   },
   "outputs": [
    {
     "data": {
      "text/plain": [
       "{'three params Ns': array([[[ 0.338     ,  0.91500002,  0.99000001,  0.32502061,  0.94042504,\n",
       "           0.97680902],\n",
       "         [ 0.338     ,  0.91500002,  0.99000001,  0.31842235,  0.92390466,\n",
       "           0.97065288],\n",
       "         [ 0.338     ,  0.91500002,  0.99000001,  0.3125422 ,  0.91647059,\n",
       "           0.96555781],\n",
       "         ..., \n",
       "         [ 0.338     ,  0.91500002,  0.99000001,  0.32075226,  0.93847424,\n",
       "           0.97349817],\n",
       "         [ 0.338     ,  0.91500002,  0.99000001,  0.31772336,  0.92679912,\n",
       "           0.96861148],\n",
       "         [ 0.338     ,  0.91500002,  0.99000001,  0.31821626,  0.93127334,\n",
       "           0.97153807]],\n",
       " \n",
       "        [[ 0.32800001,  0.78799999,  0.94199997,  0.30002752,  0.84513652,\n",
       "           0.94579518],\n",
       "         [ 0.32800001,  0.78799999,  0.94199997,  0.30058956,  0.86170781,\n",
       "           0.95059144],\n",
       "         [ 0.32800001,  0.78799999,  0.94199997,  0.30038634,  0.84607983,\n",
       "           0.94519758],\n",
       "         ..., \n",
       "         [ 0.32800001,  0.78799999,  0.94199997,  0.30054381,  0.85537386,\n",
       "           0.94874579],\n",
       "         [ 0.32800001,  0.78799999,  0.94199997,  0.29979733,  0.84624237,\n",
       "           0.94513363],\n",
       "         [ 0.32800001,  0.78799999,  0.94199997,  0.30027616,  0.87395281,\n",
       "           0.95175487]],\n",
       " \n",
       "        [[ 0.324     ,  0.83499998,  0.96200001,  0.30531543,  0.89733267,\n",
       "           0.95743757],\n",
       "         [ 0.324     ,  0.83499998,  0.96200001,  0.30240828,  0.88596153,\n",
       "           0.95339388],\n",
       "         [ 0.324     ,  0.83499998,  0.96200001,  0.30646577,  0.89939404,\n",
       "           0.95839936],\n",
       "         ..., \n",
       "         [ 0.324     ,  0.83499998,  0.96200001,  0.30210543,  0.88879949,\n",
       "           0.95401603],\n",
       "         [ 0.324     ,  0.83499998,  0.96200001,  0.3056311 ,  0.89423895,\n",
       "           0.95692849],\n",
       "         [ 0.324     ,  0.83499998,  0.96200001,  0.30817881,  0.90125936,\n",
       "           0.96113545]],\n",
       " \n",
       "        ..., \n",
       "        [[ 0.32000002,  0.79100001,  1.        ,  0.30011874,  0.85548651,\n",
       "           0.94834846],\n",
       "         [ 0.32000002,  0.79100001,  1.        ,  0.30198181,  0.88236761,\n",
       "           0.9549306 ],\n",
       "         [ 0.32000002,  0.79100001,  1.        ,  0.30210027,  0.88940382,\n",
       "           0.954153  ],\n",
       "         ..., \n",
       "         [ 0.32000002,  0.79100001,  1.        ,  0.30160311,  0.88506562,\n",
       "           0.95385087],\n",
       "         [ 0.32000002,  0.79100001,  1.        ,  0.30072969,  0.87180555,\n",
       "           0.95234704],\n",
       "         [ 0.32000002,  0.79100001,  1.        ,  0.30045918,  0.85145944,\n",
       "           0.94726491]],\n",
       " \n",
       "        [[ 0.317     ,  0.94099998,  0.95199996,  0.31959963,  0.92817014,\n",
       "           0.96984637],\n",
       "         [ 0.317     ,  0.94099998,  0.95199996,  0.31832081,  0.92536169,\n",
       "           0.97098345],\n",
       "         [ 0.317     ,  0.94099998,  0.95199996,  0.30889443,  0.90550733,\n",
       "           0.96186507],\n",
       "         ..., \n",
       "         [ 0.317     ,  0.94099998,  0.95199996,  0.31235358,  0.91683507,\n",
       "           0.9657135 ],\n",
       "         [ 0.317     ,  0.94099998,  0.95199996,  0.31370586,  0.91758949,\n",
       "           0.96576971],\n",
       "         [ 0.317     ,  0.94099998,  0.95199996,  0.31383479,  0.91827637,\n",
       "           0.96510631]],\n",
       " \n",
       "        [[ 0.29300001,  0.87699997,  0.94800001,  0.30034336,  0.84853286,\n",
       "           0.94640404],\n",
       "         [ 0.29300001,  0.87699997,  0.94800001,  0.30377284,  0.88824701,\n",
       "           0.95543224],\n",
       "         [ 0.29300001,  0.87699997,  0.94800001,  0.30054757,  0.87372231,\n",
       "           0.95249295],\n",
       "         ..., \n",
       "         [ 0.29300001,  0.87699997,  0.94800001,  0.30609855,  0.89936811,\n",
       "           0.95828724],\n",
       "         [ 0.29300001,  0.87699997,  0.94800001,  0.30759561,  0.9057942 ,\n",
       "           0.95896077],\n",
       "         [ 0.29300001,  0.87699997,  0.94800001,  0.30237713,  0.89007163,\n",
       "           0.95390511]]], dtype=float32)}"
      ]
     },
     "execution_count": 17,
     "metadata": {},
     "output_type": "execute_result"
    }
   ],
   "source": [
    "test_results"
   ]
  },
  {
   "cell_type": "code",
   "execution_count": 23,
   "metadata": {
    "collapsed": false,
    "scrolled": true
   },
   "outputs": [
    {
     "name": "stdout",
     "output_type": "stream",
     "text": [
      "three params Ns\n",
      "(49,)\n"
     ]
    },
    {
     "data": {
      "image/png": "[encoded data removed]",
      "text/plain": [
       "<matplotlib.figure.Figure at 0x7f26656931d0>"
      ]
     },
     "metadata": {},
     "output_type": "display_data"
    },
    {
     "name": "stdout",
     "output_type": "stream",
     "text": [
      "three params Ns\n",
      "(49,)\n"
     ]
    },
    {
     "data": {
      "image/png": "[encoded data removed]",
      "text/plain": [
       "<matplotlib.figure.Figure at 0x7f26629fca50>"
      ]
     },
     "metadata": {},
     "output_type": "display_data"
    },
    {
     "name": "stdout",
     "output_type": "stream",
     "text": [
      "three params Ns\n",
      "(49,)\n"
     ]
    },
    {
     "data": {
      "image/png": "[encoded data removed]",
      "text/plain": [
       "<matplotlib.figure.Figure at 0x7f26657acdd0>"
      ]
     },
     "metadata": {},
     "output_type": "display_data"
    }
   ],
   "source": [
    "np.mean(test_results['three params Ns'],axis=1).shape\n",
    "param = 0\n",
    "labels = [r'\\Omega',r'\\sigma',u'N']\n",
    "markers = ['s','x','o']\n",
    "colors = ['green','blue','red']\n",
    "\n",
    "for param in range(0,3):\n",
    "    for index , model in enumerate(model_directories):\n",
    "        x = []\n",
    "        y = []\n",
    "        averages = np.mean(test_results[model],axis=1)\n",
    "        for i in range(averages.shape[0]):\n",
    "            x.append(averages[i][param])\n",
    "            y.append(averages[i][param+3])\n",
    "        print model\n",
    "        plt.scatter(x,y,marker=markers[index],c = colors[index],label = model)\n",
    "        # Create linear regression object\n",
    "        regr = linear_model.LinearRegression()\n",
    "    \n",
    "        # Train the model using the training sets\n",
    "        print np.array(y).shape\n",
    "        regr.fit(np.array(x).reshape(-1,1), np.array(y).reshape(-1,1))\n",
    "        \n",
    "        \n",
    "        #plt.plot([.2,.4],[.2,.4])\n",
    "        extremes = [np.min(averages[:,[param,param+3]])-.01,np.max(averages[:,[param,param+3]])+.01]\n",
    "        \n",
    "        plt.plot(np.array(extremes).reshape(-1,1),regr.predict(np.array(extremes).reshape(-1,1)),c='blue',label='lin reg')\n",
    "        \n",
    "        plt.plot(extremes,extremes,c='green')\n",
    "    plt.legend()\n",
    "    plt.title(labels[param])\n",
    "    plt.axis('equal')\n",
    "    plt.show()"
   ]
  },
  {
   "cell_type": "code",
   "execution_count": 19,
   "metadata": {
    "collapsed": false
   },
   "outputs": [
    {
     "name": "stdout",
     "output_type": "stream",
     "text": [
      "three params Ns\n"
     ]
    },
    {
     "data": {
      "image/png": "[encoded data removed]",
      "text/plain": [
       "<matplotlib.figure.Figure at 0x7f26675bed50>"
      ]
     },
     "metadata": {},
     "output_type": "display_data"
    },
    {
     "name": "stdout",
     "output_type": "stream",
     "text": [
      "three params Ns\n"
     ]
    },
    {
     "data": {
      "image/png": "[encoded data removed]",
      "text/plain": [
       "<matplotlib.figure.Figure at 0x7f266595c510>"
      ]
     },
     "metadata": {},
     "output_type": "display_data"
    },
    {
     "name": "stdout",
     "output_type": "stream",
     "text": [
      "three params Ns\n"
     ]
    },
    {
     "data": {
      "image/png": "[encoded data removed]",
      "text/plain": [
       "<matplotlib.figure.Figure at 0x7f266588fc10>"
      ]
     },
     "metadata": {},
     "output_type": "display_data"
    }
   ],
   "source": [
    "np.mean(test_results['three params Ns'],axis=1).shape\n",
    "param = 0\n",
    "labels = [r'\\sigma',r'\\Omega',r'H_0']\n",
    "markers = ['s','x','o']\n",
    "colors = ['green','blue','red']\n",
    "\n",
    "for param in range(0,3):\n",
    "    for index , model in enumerate(model_directories):\n",
    "        x = []\n",
    "        y = []\n",
    "        averages = np.mean(test_results[model],axis=1)\n",
    "        for i in range(averages.shape[0]):\n",
    "            x.append(averages[i][param])\n",
    "            y.append(averages[i][param+3])\n",
    "        print model\n",
    "\n",
    "        plt.scatter(x,y,marker=markers[index],c = colors[index],label = model)\n",
    "        #plt.plot([.2,.4],[.2,.4])\n",
    "        extremes = [np.min(averages[:,[param,param+3]])-.02,np.max(averages[:,[param,param+3]])+.02]\n",
    "    plt.plot(extremes,extremes,c='green')\n",
    "    plt.legend()\n",
    "    plt.title(labels[param])\n",
    "    plt.axis('equal')\n",
    "    plt.show()"
   ]
  },
  {
   "cell_type": "code",
   "execution_count": 57,
   "metadata": {
    "collapsed": false
   },
   "outputs": [
    {
     "name": "stdout",
     "output_type": "stream",
     "text": [
      "------------\n",
      "three params\n",
      "actual sigma Omega predicted sigma Omega average\n",
      "0.302041 0.861694 0.689286 0.301314 0.855468 0.696356 \n",
      "predicted sigma Omega difference from actual\n",
      "0.0283878 0.0487328 \n"
     ]
    }
   ],
   "source": [
    "for model in model_directories:\n",
    "\n",
    "    if test_results.has_key(model):\n",
    "        print \"------------\"\n",
    "        print model\n",
    "        print r'actual sigma Omega predicted sigma Omega average'\n",
    "        for i in range(6):\n",
    "            print np.mean(np.mean(test_results[model][:,:,i],axis=1)),\n",
    "        print \"\"\n",
    "        print \"predicted sigma Omega difference from actual\"\n",
    "        for i in range(2):\n",
    "            print np.std(np.mean(test_results[model][:,:,i+3],axis=1)-np.mean(test_results[model][:,:,i],axis=1)),\n",
    "        print \"\""
   ]
  },
  {
   "cell_type": "code",
   "execution_count": 58,
   "metadata": {
    "collapsed": false
   },
   "outputs": [
    {
     "data": {
      "text/plain": [
       "['three params']"
      ]
     },
     "execution_count": 58,
     "metadata": {},
     "output_type": "execute_result"
    }
   ],
   "source": [
    "model_directories.keys()"
   ]
  },
  {
   "cell_type": "code",
   "execution_count": 59,
   "metadata": {
    "collapsed": false
   },
   "outputs": [],
   "source": [
    "model_test = model_directories.keys()[0]"
   ]
  },
  {
   "cell_type": "code",
   "execution_count": 60,
   "metadata": {
    "collapsed": false
   },
   "outputs": [
    {
     "data": {
      "text/plain": [
       "array([[[ 0.26900002,  0.90100002,  0.63399994,  0.30247092,  0.85032165,\n",
       "          0.69382507],\n",
       "        [ 0.26900002,  0.90100002,  0.63399994,  0.30160472,  0.85306448,\n",
       "          0.69511771],\n",
       "        [ 0.26900002,  0.90100002,  0.63399994,  0.30229971,  0.85157657,\n",
       "          0.69434386],\n",
       "        ..., \n",
       "        [ 0.26900002,  0.90100002,  0.63399994,  0.30125144,  0.85629803,\n",
       "          0.69676805],\n",
       "        [ 0.26900002,  0.90100002,  0.63399994,  0.30141866,  0.85416132,\n",
       "          0.69575179],\n",
       "        [ 0.26900002,  0.90100002,  0.63399994,  0.30163059,  0.85359114,\n",
       "          0.6954248 ]],\n",
       "\n",
       "       [[ 0.31      ,  0.93800002,  0.67299998,  0.30096006,  0.85812551,\n",
       "          0.69758165],\n",
       "        [ 0.31      ,  0.93800002,  0.67299998,  0.3008408 ,  0.8575781 ,\n",
       "          0.69735521],\n",
       "        [ 0.31      ,  0.93800002,  0.67299998,  0.30091229,  0.85794598,\n",
       "          0.69750977],\n",
       "        ..., \n",
       "        [ 0.31      ,  0.93800002,  0.67299998,  0.30095178,  0.8582086 ,\n",
       "          0.69758588],\n",
       "        [ 0.31      ,  0.93800002,  0.67299998,  0.30095026,  0.8580516 ,\n",
       "          0.69756353],\n",
       "        [ 0.31      ,  0.93800002,  0.67299998,  0.3009446 ,  0.858123  ,\n",
       "          0.69752651]],\n",
       "\n",
       "       [[ 0.287     ,  0.81300002,  0.64999998,  0.30097377,  0.85834587,\n",
       "          0.69765532],\n",
       "        [ 0.287     ,  0.81300002,  0.64999998,  0.3014254 ,  0.85555285,\n",
       "          0.69625658],\n",
       "        [ 0.287     ,  0.81300002,  0.64999998,  0.30133682,  0.85496211,\n",
       "          0.69615102],\n",
       "        ..., \n",
       "        [ 0.287     ,  0.81300002,  0.64999998,  0.30092201,  0.85778517,\n",
       "          0.69743371],\n",
       "        [ 0.287     ,  0.81300002,  0.64999998,  0.30096754,  0.85822147,\n",
       "          0.69756371],\n",
       "        [ 0.287     ,  0.81300002,  0.64999998,  0.30169448,  0.85277981,\n",
       "          0.69501203]],\n",
       "\n",
       "       ..., \n",
       "       [[ 0.34300002,  0.92699999,  0.72899997,  0.30107304,  0.85540861,\n",
       "          0.69636363],\n",
       "        [ 0.34300002,  0.92699999,  0.72899997,  0.30095544,  0.85728371,\n",
       "          0.69728756],\n",
       "        [ 0.34300002,  0.92699999,  0.72899997,  0.30111793,  0.85564011,\n",
       "          0.69657624],\n",
       "        ..., \n",
       "        [ 0.34300002,  0.92699999,  0.72899997,  0.30269754,  0.8496111 ,\n",
       "          0.69360626],\n",
       "        [ 0.34300002,  0.92699999,  0.72899997,  0.30175292,  0.85319269,\n",
       "          0.69518924],\n",
       "        [ 0.34300002,  0.92699999,  0.72899997,  0.30141866,  0.85496962,\n",
       "          0.69614953]],\n",
       "\n",
       "       [[ 0.28600001,  0.79000002,  0.68599999,  0.30123755,  0.85446751,\n",
       "          0.69583786],\n",
       "        [ 0.28600001,  0.79000002,  0.68599999,  0.30141807,  0.85550231,\n",
       "          0.69636309],\n",
       "        [ 0.28600001,  0.79000002,  0.68599999,  0.30143511,  0.85432458,\n",
       "          0.69576126],\n",
       "        ..., \n",
       "        [ 0.28600001,  0.79000002,  0.68599999,  0.30130208,  0.85585743,\n",
       "          0.69654942],\n",
       "        [ 0.28600001,  0.79000002,  0.68599999,  0.30130482,  0.85436571,\n",
       "          0.69576901],\n",
       "        [ 0.28600001,  0.79000002,  0.68599999,  0.30143431,  0.85386229,\n",
       "          0.69559211]],\n",
       "\n",
       "       [[ 0.28200001,  0.86500001,  0.61199999,  0.30136955,  0.85378385,\n",
       "          0.69557613],\n",
       "        [ 0.28200001,  0.86500001,  0.61199999,  0.30158386,  0.85415405,\n",
       "          0.69567639],\n",
       "        [ 0.28200001,  0.86500001,  0.61199999,  0.3011024 ,  0.85581017,\n",
       "          0.69659585],\n",
       "        ..., \n",
       "        [ 0.28200001,  0.86500001,  0.61199999,  0.30123764,  0.85469157,\n",
       "          0.69606251],\n",
       "        [ 0.28200001,  0.86500001,  0.61199999,  0.30130744,  0.85517871,\n",
       "          0.69614178],\n",
       "        [ 0.28200001,  0.86500001,  0.61199999,  0.30139315,  0.85431123,\n",
       "          0.69576895]]], dtype=float32)"
      ]
     },
     "execution_count": 60,
     "metadata": {},
     "output_type": "execute_result"
    }
   ],
   "source": [
    "test_results[model_test]"
   ]
  },
  {
   "cell_type": "code",
   "execution_count": 61,
   "metadata": {
    "collapsed": false
   },
   "outputs": [
    {
     "name": "stdout",
     "output_type": "stream",
     "text": [
      "0.0283786 0.253 0.347\n",
      "0.0487506 0.786 0.949\n",
      "0.0592838 0.607 0.798\n",
      "0.000381682 0.300932 0.30277\n",
      "0.00221675 0.848933 0.858348\n",
      "0.00104462 0.693249 0.697698\n"
     ]
    }
   ],
   "source": [
    "for i in range(6):\n",
    "    print np.std(test_results[model_test][:,0,i]),np.min(test_results[model_test][:,0,i]),np.max(test_results[model_test][:,0,i])"
   ]
  },
  {
   "cell_type": "code",
   "execution_count": 62,
   "metadata": {
    "collapsed": false
   },
   "outputs": [
    {
     "ename": "KeyError",
     "evalue": "'original data rerun'",
     "output_type": "error",
     "traceback": [
      "\u001b[0;31m---------------------------------------------------------------------------\u001b[0m",
      "\u001b[0;31mKeyError\u001b[0m                                  Traceback (most recent call last)",
      "\u001b[0;32m<ipython-input-62-9441f8293035>\u001b[0m in \u001b[0;36m<module>\u001b[0;34m()\u001b[0m\n\u001b[1;32m      1\u001b[0m \u001b[0;32mfor\u001b[0m \u001b[0mi\u001b[0m \u001b[0;32min\u001b[0m \u001b[0mrange\u001b[0m\u001b[0;34m(\u001b[0m\u001b[0;36m4\u001b[0m\u001b[0;34m)\u001b[0m\u001b[0;34m:\u001b[0m\u001b[0;34m\u001b[0m\u001b[0m\n\u001b[0;32m----> 2\u001b[0;31m     \u001b[0;32mprint\u001b[0m \u001b[0mnp\u001b[0m\u001b[0;34m.\u001b[0m\u001b[0mstd\u001b[0m\u001b[0;34m(\u001b[0m\u001b[0mtest_results\u001b[0m\u001b[0;34m[\u001b[0m\u001b[0;34m'original data rerun'\u001b[0m\u001b[0;34m]\u001b[0m\u001b[0;34m[\u001b[0m\u001b[0;34m:\u001b[0m\u001b[0;34m,\u001b[0m\u001b[0;36m0\u001b[0m\u001b[0;34m,\u001b[0m\u001b[0mi\u001b[0m\u001b[0;34m]\u001b[0m\u001b[0;34m)\u001b[0m\u001b[0;34m,\u001b[0m\u001b[0mnp\u001b[0m\u001b[0;34m.\u001b[0m\u001b[0mmin\u001b[0m\u001b[0;34m(\u001b[0m\u001b[0mtest_results\u001b[0m\u001b[0;34m[\u001b[0m\u001b[0;34m'original data rerun'\u001b[0m\u001b[0;34m]\u001b[0m\u001b[0;34m[\u001b[0m\u001b[0;34m:\u001b[0m\u001b[0;34m,\u001b[0m\u001b[0;36m0\u001b[0m\u001b[0;34m,\u001b[0m\u001b[0mi\u001b[0m\u001b[0;34m]\u001b[0m\u001b[0;34m)\u001b[0m\u001b[0;34m,\u001b[0m\u001b[0mnp\u001b[0m\u001b[0;34m.\u001b[0m\u001b[0mmax\u001b[0m\u001b[0;34m(\u001b[0m\u001b[0mtest_results\u001b[0m\u001b[0;34m[\u001b[0m\u001b[0;34m'original data rerun'\u001b[0m\u001b[0;34m]\u001b[0m\u001b[0;34m[\u001b[0m\u001b[0;34m:\u001b[0m\u001b[0;34m,\u001b[0m\u001b[0;36m0\u001b[0m\u001b[0;34m,\u001b[0m\u001b[0mi\u001b[0m\u001b[0;34m]\u001b[0m\u001b[0;34m)\u001b[0m\u001b[0;34m\u001b[0m\u001b[0m\n\u001b[0m",
      "\u001b[0;31mKeyError\u001b[0m: 'original data rerun'"
     ]
    }
   ],
   "source": [
    "for i in range(4):\n",
    "    print np.std(test_results['original data rerun'][:,0,i]),np.min(test_results['original data rerun'][:,0,i]),np.max(test_results['original data rerun'][:,0,i])\n"
   ]
  },
  {
   "cell_type": "code",
   "execution_count": 36,
   "metadata": {
    "collapsed": false
   },
   "outputs": [
    {
     "data": {
      "text/plain": [
       "0.09000000000000002"
      ]
     },
     "execution_count": 36,
     "metadata": {},
     "output_type": "execute_result"
    }
   ],
   "source": [
    ".34-.25"
   ]
  },
  {
   "cell_type": "code",
   "execution_count": 38,
   "metadata": {
    "collapsed": false
   },
   "outputs": [
    {
     "data": {
      "text/plain": [
       "0.056"
      ]
     },
     "execution_count": 38,
     "metadata": {},
     "output_type": "execute_result"
    }
   ],
   "source": [
    "5.6e-02"
   ]
  },
  {
   "cell_type": "code",
   "execution_count": null,
   "metadata": {
    "collapsed": true
   },
   "outputs": [],
   "source": []
  }
 ],
 "metadata": {
  "kernelspec": {
   "display_name": "Python 2",
   "language": "python",
   "name": "python2"
  },
  "language_info": {
   "codemirror_mode": {
    "name": "ipython",
    "version": 2
   },
   "file_extension": ".py",
   "mimetype": "text/x-python",
   "name": "python",
   "nbconvert_exporter": "python",
   "pygments_lexer": "ipython2",
   "version": "2.7.12"
  }
 },
 "nbformat": 4,
 "nbformat_minor": 2
}
